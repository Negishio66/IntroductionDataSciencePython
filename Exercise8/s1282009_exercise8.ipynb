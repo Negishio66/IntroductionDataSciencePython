{
 "cells": [
  {
   "cell_type": "code",
   "id": "initial_id",
   "metadata": {
    "collapsed": true,
    "ExecuteTime": {
     "end_time": "2025-07-09T04:02:24.767085Z",
     "start_time": "2025-07-09T04:02:24.709679Z"
    }
   },
   "source": [
    "from Exercise8.Exercise_8 import insertStationInfo as alg\n",
    "\n",
    "obj = alg.insertStationInfo('stationInfo.csv')\n",
    "\n",
    "obj.run()\n",
    "\n",
    "print(\"Memory: \" + obj.getMemoryRSS())\n",
    "\n",
    "print(\"Runtime: \" + obj.getRuntime())"
   ],
   "outputs": [
    {
     "name": "stdout",
     "output_type": "stream",
     "text": [
      "Memory: 1056768 Bytes\n",
      "Runtime: 0.0328 seconds\n"
     ]
    }
   ],
   "execution_count": 1
  }
 ],
 "metadata": {
  "kernelspec": {
   "display_name": "Python 3",
   "language": "python",
   "name": "python3"
  },
  "language_info": {
   "codemirror_mode": {
    "name": "ipython",
    "version": 2
   },
   "file_extension": ".py",
   "mimetype": "text/x-python",
   "name": "python",
   "nbconvert_exporter": "python",
   "pygments_lexer": "ipython2",
   "version": "2.7.6"
  }
 },
 "nbformat": 4,
 "nbformat_minor": 5
}
