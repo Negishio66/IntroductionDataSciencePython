{
 "cells": [
  {
   "cell_type": "code",
   "id": "69307f4e-33b6-4b42-b73d-e6e4d45a3fcd",
   "metadata": {
    "ExecuteTime": {
     "end_time": "2025-06-19T13:10:18.673854Z",
     "start_time": "2025-06-19T13:10:18.632359Z"
    }
   },
   "source": [
    "import sys\n",
    "sys.path.append('Similarity')\n",
    "from hamming_distance import calculate_hamming_distance\n",
    "from jaccard_coefficient import calculate_string_jaccard\n",
    "from overlap_coefficient import calculate_string_overlap"
   ],
   "outputs": [],
   "execution_count": 1
  },
  {
   "cell_type": "code",
   "id": "c0bc6e69-d546-4b4d-a94f-c4cb9ba6045e",
   "metadata": {
    "ExecuteTime": {
     "end_time": "2025-06-19T13:10:20.560919Z",
     "start_time": "2025-06-19T13:10:20.544844Z"
    }
   },
   "source": [
    "string1 = \"suspicious\"\n",
    "string2 = \"delicious\"\n",
    "string3 = \"naphthalising\"\n",
    "string4 = \"objectivising\""
   ],
   "outputs": [],
   "execution_count": 2
  },
  {
   "cell_type": "code",
   "id": "de9e9d80-1a37-4257-9822-1a9b121e4170",
   "metadata": {
    "ExecuteTime": {
     "end_time": "2025-06-19T13:10:23.031235Z",
     "start_time": "2025-06-19T13:10:23.013259Z"
    }
   },
   "source": [
    "try:\n",
    "    jaccard_sim = calculate_string_jaccard(string1, string2)\n",
    "    print(f\"A: '{string1}'\")\n",
    "    print(f\"B: '{string2}'\")\n",
    "    print(\"-\" * 20)\n",
    "    print(f\"The Jaccard coefficient between the strings '{string1}' and '{string2}' is: {jaccard_sim:.4f}\")\n",
    "\n",
    "    overlap_sim = calculate_string_overlap(string1, string2)\n",
    "    print(f\"The Overlap coefficient between the strings '{string1}' and '{string2}' is: {overlap_sim:.4f}\")\n",
    "    \n",
    "    print(\"-\" * 20)\n",
    "    print(f\"C: '{string3}'\")\n",
    "    print(f\"D: '{string4}'\")\n",
    "    print(\"-\" * 20)\n",
    "    \n",
    "    hamming_dist = calculate_hamming_distance(string3, string4)\n",
    "    print(f\"The Hamming Distance between the strings '{string3}' and '{string4}' is: {hamming_dist}\")\n",
    "\n",
    "except ValueError as e:\n",
    "    print(f\"Error occurred: {e}\")"
   ],
   "outputs": [
    {
     "name": "stdout",
     "output_type": "stream",
     "text": [
      "A: 'suspicious'\n",
      "B: 'delicious'\n",
      "--------------------\n",
      "The Jaccard coefficient between the strings 'suspicious' and 'delicious' is: 0.5556\n",
      "The Overlap coefficient between the strings 'suspicious' and 'delicious' is: 0.8333\n",
      "--------------------\n",
      "C: 'naphthalising'\n",
      "D: 'objectivising'\n",
      "--------------------\n",
      "The Hamming Distance between the strings 'naphthalising' and 'objectivising' is: 8\n"
     ]
    }
   ],
   "execution_count": 3
  }
 ],
 "metadata": {
  "kernelspec": {
   "display_name": "Python 3 (ipykernel)",
   "language": "python",
   "name": "python3"
  },
  "language_info": {
   "codemirror_mode": {
    "name": "ipython",
    "version": 3
   },
   "file_extension": ".py",
   "mimetype": "text/x-python",
   "name": "python",
   "nbconvert_exporter": "python",
   "pygments_lexer": "ipython3",
   "version": "3.12.7"
  }
 },
 "nbformat": 4,
 "nbformat_minor": 5
}
